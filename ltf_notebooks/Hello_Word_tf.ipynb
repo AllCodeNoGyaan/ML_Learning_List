{
 "cells": [
  {
   "cell_type": "code",
   "execution_count": 8,
   "metadata": {},
   "outputs": [
    {
     "name": "stdout",
     "output_type": "stream",
     "text": [
      "1.2.1\n",
      "b'HelloWorld!'\n"
     ]
    }
   ],
   "source": [
    "import tensorflow as tf\n",
    "print(tf.__version__)\n",
    "\n",
    "h = tf.constant(\"Hello\")\n",
    "w = tf.constant(\"World!\")\n",
    "hw = h + w\n",
    "with tf.Session() as sess:\n",
    "    ans = sess.run(hw)\n",
    "\n",
    "print(ans)    "
   ]
  },
  {
   "cell_type": "code",
   "execution_count": 15,
   "metadata": {},
   "outputs": [
    {
     "name": "stdout",
     "output_type": "stream",
     "text": [
      "Tensor(\"add_10:0\", shape=(), dtype=string)\n",
      "b'HelloWorld!'\n"
     ]
    }
   ],
   "source": [
    "ph = tf.constant(\"Hello\")\n",
    "pw = tf.constant(\"World!\")\n",
    "phw = ph + pw\n",
    "print(phw)\n",
    "with tf.Session() as sess:\n",
    "    ans = sess.run(phw)\n",
    "print(ans)"
   ]
  },
  {
   "cell_type": "code",
   "execution_count": null,
   "metadata": {},
   "outputs": [],
   "source": []
  }
 ],
 "metadata": {
  "kernelspec": {
   "display_name": "Python 3",
   "language": "python",
   "name": "python3"
  },
  "language_info": {
   "codemirror_mode": {
    "name": "ipython",
    "version": 3
   },
   "file_extension": ".py",
   "mimetype": "text/x-python",
   "name": "python",
   "nbconvert_exporter": "python",
   "pygments_lexer": "ipython3",
   "version": "3.6.4"
  }
 },
 "nbformat": 4,
 "nbformat_minor": 2
}
